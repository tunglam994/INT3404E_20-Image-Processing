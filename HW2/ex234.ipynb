{
  "cells": [
    {
      "cell_type": "code",
      "execution_count": null,
      "metadata": {
        "id": "e8SpNjvYBZ9o"
      },
      "outputs": [],
      "source": [
        "import io\n",
        "import ipywidgets as widgets\n",
        "import matplotlib.pyplot as plt\n",
        "import PIL.Image\n",
        "import numpy as np\n",
        "import urllib\n",
        "from skimage.transform import resize\n",
        "from matplotlib.image import imread\n",
        "import os\n",
        "from IPython.display import display\n",
        "from skimage import io as io_url\n",
        "import cv2\n",
        "import numpy as np\n",
        "from PIL import Image"
      ]
    },
    {
      "cell_type": "code",
      "execution_count": null,
      "metadata": {
        "id": "BEZerYH0A49C"
      },
      "outputs": [],
      "source": [
        "# Create image widgets\n",
        "image3_spatial = widgets.Image(format='png', width=500, height=500, description='Spatial')\n",
        "image3_freq    = widgets.Image(format='png', width=500, height=500, description='Frequency')\n",
        "sidebyside     = widgets.HBox([image3_spatial, image3_freq])\n",
        "\n",
        "# Create slider/select widgets\n",
        "slider_inner   = widgets.FloatSlider(value=0,      min=0, max=1,      step=0.01, description='Inner radius')\n",
        "slider_outer   = widgets.FloatSlider(value=1.44/2, min=0, max=1.44/2, step=0.01, description='Outer radius')\n",
        "\n",
        "buf            = io.BytesIO()\n",
        "\n",
        "orig_img = io_url.imread('https://img2.zergnet.com/2309662_300.jpg')\n",
        "orig_img = np.mean(orig_img, -1)\n",
        "\n",
        "x = np.fft.fftfreq(orig_img.shape[0]);\n",
        "y = np.fft.fftfreq(orig_img.shape[1]);\n",
        "\n",
        "xv, yv = np.meshgrid(x, y)\n",
        "xv = np.fft.fftshift(xv)\n",
        "yv = np.fft.fftshift(yv)\n",
        "\n",
        "def filter_frequency(orig_img, mask):\n",
        "  \"\"\"\n",
        "  You need to remove frequency based on the given mask.\n",
        "  Params:\n",
        "    orig_img: numpy image\n",
        "    mask: same shape with orig_img indicating which frequency hold or remove\n",
        "  Output:\n",
        "    f_img: frequency image after applying mask\n",
        "    img: image after applying mask\n",
        "  \"\"\"\n",
        "  # You need to implement this function\n",
        "\n",
        "def on_value_change3(change):\n",
        "    mask = (np.sqrt(xv**2 + yv**2) < slider_outer.value) & \\\n",
        "           (np.sqrt(xv**2 + yv**2) >= slider_inner.value)\n",
        "    mask = np.float32(mask)\n",
        "\n",
        "    fimg, img = filter_frequency(orig_img, mask)\n",
        "    buf.seek(0)\n",
        "    tmp = PIL.Image.fromarray(255*img/(img.max()+0.0001))\n",
        "    tmp = tmp.convert('L')\n",
        "    tmp.save(buf, 'png')\n",
        "    image3_spatial.value = buf.getvalue()\n",
        "\n",
        "    buf.seek(0)\n",
        "    tmp = PIL.Image.fromarray(255*np.log(0.0001*fimg + 1))\n",
        "    tmp = tmp.convert('L')\n",
        "    tmp.save(buf, 'png')\n",
        "    image3_freq.value = buf.getvalue()\n",
        "\n",
        "\n",
        "slider_inner.observe(on_value_change3, names='value')\n",
        "slider_outer.observe(on_value_change3, names='value')\n",
        "\n",
        "on_value_change3(0)\n",
        "\n",
        "display(sidebyside)\n",
        "display(slider_inner)\n",
        "display(slider_outer)"
      ]
    },
    {
      "cell_type": "code",
      "execution_count": null,
      "metadata": {
        "id": "uVrTefqfDt4S"
      },
      "outputs": [],
      "source": [
        "def read_img(img_path, img_size=(512, 512)):\n",
        "  \"\"\"\n",
        "    + Đọc ảnh\n",
        "    + Chuyển thành grayscale\n",
        "    + Thay đổi kích thước ảnh thành img_size\n",
        "  \"\"\"\n",
        "  img = cv2.imread(img_path, 0)\n",
        "  img = cv2.resize(img, img_size)\n",
        "  return img\n",
        "\n",
        "\n",
        "def create_hybrid_img(img1, img2, r):\n",
        "  \"\"\"\n",
        "  Create hydrid image\n",
        "  Params:\n",
        "    img1: numpy image 1\n",
        "    img2: numpy image 2\n",
        "    r: radius that defines the filled circle of frequency of image 1. Refer to the homework title to know more.\n",
        "  \"\"\"\n",
        "  # You need to implement the function"
      ]
    },
    {
      "cell_type": "code",
      "execution_count": null,
      "metadata": {
        "id": "uB8hOFkPDxzS"
      },
      "outputs": [],
      "source": [
        "image_1_path = \"\" # <-- need to change\n",
        "image_2_path = \"\" # <-- need to change\n",
        "img_1 = read_img(image_1_path)\n",
        "img_2 = read_img(image_2_path)\n",
        "hybrid_img = create_hybrid_img(img_2, img_1, 14)\n",
        "fig, axes = plt.subplots(nrows=1, ncols=3, figsize=(18, 15))\n",
        "axes[0].imshow(img_1, cmap=\"gray\")\n",
        "axes[0].axis(\"off\")\n",
        "axes[1].imshow(img_2, cmap=\"gray\")\n",
        "axes[1].axis(\"off\")\n",
        "axes[2].imshow(hybrid_img, cmap=\"gray\")\n",
        "axes[2].axis(\"off\")"
      ]
    }
  ],
  "metadata": {
    "colab": {
      "provenance": []
    },
    "kernelspec": {
      "display_name": "Python 3",
      "name": "python3"
    },
    "language_info": {
      "name": "python"
    }
  },
  "nbformat": 4,
  "nbformat_minor": 0
}
